{
 "cells": [
  {
   "cell_type": "markdown",
   "id": "abaccb3a",
   "metadata": {},
   "source": [
    "# Functions: Quadratic Function\n",
    "## Quadratic Function of the Form $ax^2+bx+c$"
   ]
  },
  {
   "cell_type": "markdown",
   "id": "297ea801",
   "metadata": {},
   "source": [
    "## Instructions\n",
    "\n",
    "Follow the instructions below to run the program from COLAB.\n",
    "\n",
    "1. Run the program according to the general and specific steps of each section of the program."
   ]
  },
  {
   "cell_type": "markdown",
   "id": "ac7d2aaf",
   "metadata": {},
   "source": [
    "### Navigate and run programmed cells\n",
    "1. The program must be executed sequentially according to each section.\n",
    "2. Each programmed section is contained within a cell, which allows the subprogram of that cell to be executed using the \"Run\" button, which appears when we position the cursor on the left side of the cell.\n",
    "\n",
    "<center>\n",
    "<img src=https://repositorioweb.hetedu.net/Imagenes_Site/fpp/Img_1.jpg>\n",
    "</center>\n",
    "\n",
    "1. Clicking the \"Run\" button will execute the section of the program contained in that cell.\n",
    "2.\tThe processing time of the subprogram will be indicated.\n",
    "3.\tThe results of the execution will be displayed in case the subprogram generates the outputs."
   ]
  },
  {
   "cell_type": "markdown",
   "id": "6bcd1385",
   "metadata": {},
   "source": [
    "### Sections containing programmed cells\n",
    "\n",
    "The program is divided into subprograms containing cells with the source code of the cell written in Python.\n",
    "\n",
    "The sections of the program are divided with the following structure:\n",
    "1. Include libraries.\n",
    "2. Calculate the resolver.\n",
    "3. Calculate the roots of the quadratic function.\n",
    "4. Graphing the quadratic function.\n",
    "5. Summary of results."
   ]
  },
  {
   "cell_type": "markdown",
   "id": "a3078a69",
   "metadata": {},
   "source": [
    "## Program"
   ]
  },
  {
   "cell_type": "markdown",
   "id": "0f29476e",
   "metadata": {},
   "source": [
    "### 1. Include libraries"
   ]
  },
  {
   "cell_type": "markdown",
   "id": "5dc66780",
   "metadata": {},
   "source": [
    "Run the subprogram to include the libraries that contain the functions that will be used in the program, once the libraries are included it is not necessary to run the program from this section."
   ]
  },
  {
   "cell_type": "code",
   "execution_count": null,
   "id": "eb8f676c",
   "metadata": {},
   "outputs": [],
   "source": [
    "import numpy as np\n",
    "import math\n",
    "import matplotlib.pyplot as plt"
   ]
  },
  {
   "cell_type": "markdown",
   "id": "388ac083",
   "metadata": {},
   "source": [
    "### Exercises to solve using the program"
   ]
  },
  {
   "cell_type": "markdown",
   "id": "a41c01ef",
   "metadata": {},
   "source": [
    "Using the program, calculate the roots and the graph of the quadratic function of the following exercises:"
   ]
  },
  {
   "cell_type": "markdown",
   "id": "acba59e5",
   "metadata": {},
   "source": [
    "1. $x^2-6x+5$\n",
    "2. $x^2+2x$\n",
    "3. $5x^2-4x+4$\n",
    "4. $x^2-4x+4$\n",
    "5. $x^2-2$\n",
    "6. $-4x^2-6x+5$\n",
    "7. $-x^2+3x+2$\n",
    "8. $3x^2+1$\n",
    "9. $2x^2-4x-6$\n",
    "10. $2x^2-7x+5$"
   ]
  },
  {
   "cell_type": "markdown",
   "id": "f3564020",
   "metadata": {},
   "source": [
    "### 2. Calculate the quadratic resolvent"
   ]
  },
  {
   "cell_type": "markdown",
   "id": "16c6faad",
   "metadata": {},
   "source": [
    "#### 2.1 Method of calculating the resolvent"
   ]
  },
  {
   "cell_type": "markdown",
   "id": "761f66c7",
   "metadata": {},
   "source": [
    "The resolution of the quadratic resolvent raises the evaluation of three cases based on the determinant, which is defined by the following expression contained in the resolvent:\n",
    "\n",
    "$Det = b^2 - 4ac$"
   ]
  },
  {
   "cell_type": "markdown",
   "id": "5c39451e",
   "metadata": {},
   "source": [
    "#### 2.2 Algorithm used to calculate the quadratic resolvent"
   ]
  },
  {
   "cell_type": "markdown",
   "id": "9b5dc283",
   "metadata": {},
   "source": [
    "The algorithm corresponding to the quadratic resolvent calculation method is structured as follows:\n",
    "\n",
    "<center>\n",
    "<img src=https://repositorioweb.hetedu.net/Imagenes_Site/fpp/Img_Funcion_Cuadratica_1_en.jpg>\n",
    "</center>\n",
    "\n",
    "Run each subprogram to enter the constants of the quadratic function."
   ]
  },
  {
   "cell_type": "markdown",
   "id": "2f470450",
   "metadata": {},
   "source": [
    "Run the subroutine to enter the constant “a” of the quadratic function."
   ]
  },
  {
   "cell_type": "markdown",
   "id": "a6b37706",
   "metadata": {},
   "source": [
    "#### 2.3 Subprogram to Resolvent Calculation"
   ]
  },
  {
   "cell_type": "code",
   "execution_count": null,
   "id": "8bcce8f2",
   "metadata": {},
   "outputs": [],
   "source": [
    "a=float(input(\"Variable input a:\"))"
   ]
  },
  {
   "cell_type": "markdown",
   "id": "c1658461",
   "metadata": {},
   "source": [
    "Run the subprogram to enter the constant “b” of the quadratic function."
   ]
  },
  {
   "cell_type": "code",
   "execution_count": null,
   "id": "3e3a35f2",
   "metadata": {},
   "outputs": [],
   "source": [
    "b=float(input(\"Variable input b:\"))"
   ]
  },
  {
   "cell_type": "markdown",
   "id": "9b7dc6ee",
   "metadata": {},
   "source": [
    "Run the subroutine to enter the constant “c” of the quadratic function."
   ]
  },
  {
   "cell_type": "code",
   "execution_count": null,
   "id": "33a08f10",
   "metadata": {},
   "outputs": [],
   "source": [
    "c=float(input(\"Variable input c:\"))"
   ]
  },
  {
   "cell_type": "markdown",
   "id": "fe22681b",
   "metadata": {},
   "source": [
    "Run the subprogram to calculate the resolver of the quadratic function."
   ]
  },
  {
   "cell_type": "code",
   "execution_count": null,
   "id": "1706d3ad",
   "metadata": {},
   "outputs": [],
   "source": [
    "Det=float((b**2)-(4*a*c))\n",
    "print(\"The resolvent has the value of:\",Det)"
   ]
  },
  {
   "cell_type": "markdown",
   "id": "583ac7a9",
   "metadata": {},
   "source": [
    "### 3. The quadratic resolvent has the value of:"
   ]
  },
  {
   "cell_type": "markdown",
   "id": "e28a1f6f",
   "metadata": {},
   "source": [
    "#### 3.1 Method for calculating the roots of a quadratic function"
   ]
  },
  {
   "cell_type": "markdown",
   "id": "6c516725",
   "metadata": {},
   "source": [
    "To obtain the roots of the parabolic function, the resolvent method is applied, which consists of replacing the coefficients a, b and c of the quadratic function in the following equation:\n",
    "\n",
    "$x_1,_2 = \\frac{-b \\pm \\sqrt {b^2 - 4ac}}{2a}$\n",
    "\n",
    "Thus, we will obtain the roots of the function identified by the variables $x_1$ y $x_2$, reformulating the quadratic equation under the following expression:\n",
    "\n",
    "$a(x - x_1)(x-x_2) = 0$"
   ]
  },
  {
   "cell_type": "markdown",
   "id": "2d5f7811",
   "metadata": {},
   "source": [
    "#### 3.2 Algorithm used to calculate the roots of the parabolic function"
   ]
  },
  {
   "cell_type": "markdown",
   "id": "fbe86761",
   "metadata": {},
   "source": [
    "The algorithm corresponding to the method of calculating the roots of the quadratic function is structured as follows:\n",
    "\n",
    "<center>\n",
    "<img src=https://repositorioweb.hetedu.net/Imagenes_Site/fpp/Img_Funcion_Cuadratica_2_en.jpg>\n",
    "</center>"
   ]
  },
  {
   "cell_type": "markdown",
   "id": "03f18bee",
   "metadata": {},
   "source": [
    "#### 3.3 Subprogram to calculate the roots of quadratic function"
   ]
  },
  {
   "cell_type": "markdown",
   "id": "d2c5bc49",
   "metadata": {},
   "source": [
    "Run the subroutine to calculate the roots of the quadratic function."
   ]
  },
  {
   "cell_type": "code",
   "execution_count": null,
   "id": "8814e063",
   "metadata": {},
   "outputs": [],
   "source": [
    "if Det>=0:\n",
    "    if Det==0:\n",
    "        x1=float((-b)/(2*a))\n",
    "        x2=x1\n",
    "        print(\"There are two real and equal roots\")\n",
    "        print(f\"𝑥1={𝑥1}\")\n",
    "        print(f\"𝑥2={𝑥2})\")\n",
    "        print(f\"{𝑎}(𝑥−{𝑥1})(𝑥−{𝑥2})\")\n",
    "    elif Det>0:\n",
    "        x1=float((-b+math.sqrt(Det))/(2*a))\n",
    "        x2=float((-b-math.sqrt(Det))/(2*a))\n",
    "        print(\"There are two real and different roots\")\n",
    "        print(f\"𝑥1={𝑥1}\")\n",
    "        print(f\"𝑥2={𝑥2})\")\n",
    "        print(f\"{𝑎}(𝑥1−({𝑥1}))(𝑥2−({𝑥2}))\")\n",
    "else:\n",
    "    print(\"There are two imaginary and different roots, which indicate that the quadratic function has no cuts with the X coordinate axis\")    "
   ]
  },
  {
   "cell_type": "markdown",
   "id": "1aa0d002",
   "metadata": {},
   "source": [
    "### 4. Graphing the quadratic function"
   ]
  },
  {
   "cell_type": "markdown",
   "id": "b9855395",
   "metadata": {},
   "source": [
    "#### 4.1 Algorithm used to graph the quadratic function"
   ]
  },
  {
   "cell_type": "markdown",
   "id": "e28380a7",
   "metadata": {},
   "source": [
    "The algorithm corresponding to the method for graphing the quadratic function is structured as follows:\n",
    "\n",
    "<center>\n",
    "<img src=https://repositorioweb.hetedu.net/Imagenes_Site/fpp/Img_Funcion_Cuadratica_3_en.jpg>\n",
    "</center>"
   ]
  },
  {
   "cell_type": "markdown",
   "id": "400d7111",
   "metadata": {},
   "source": [
    "#### 4.2 Subprogram to graph the quadratic function"
   ]
  },
  {
   "cell_type": "markdown",
   "id": "b4082b86",
   "metadata": {},
   "source": [
    "Run the subprogram to graph the quadratic function."
   ]
  },
  {
   "cell_type": "code",
   "execution_count": null,
   "id": "828da7f3",
   "metadata": {},
   "outputs": [],
   "source": [
    "### Evaluate the vertex\n",
    "vertice_x=float((-b)/(2*a))\n",
    "vertice_y=float((c)-((b**2)/(4*a)))\n",
    "vertice_izq=vertice_x-10\n",
    "vertice_der=vertice_x+10\n",
    "val_vertice_izq=float((a)*(vertice_izq**2)+(b*vertice_izq)+(c))\n",
    "val_vertice_der=float((a)*(vertice_der**2)+(b*vertice_der)+(c))\n",
    "corte_y=c\n",
    "dominio_grafica=200\n",
    "\n",
    "if (a>0):\n",
    "    lateral_izq=corte_y-(dominio_grafica/2)\n",
    "    lateral_der=vertice_x+(dominio_grafica/2)\n",
    "    valor_inferior=vertice_y-20\n",
    "    valor_superior=vertice_y+20\n",
    "elif (a<0):\n",
    "    lateral_izq=corte_y-(dominio_grafica/2)\n",
    "    lateral_der=vertice_x+(dominio_grafica/2)\n",
    "    valor_inferior=vertice_y+20\n",
    "    valor_superior=vertice_y-20\n",
    "    \n",
    "x=np.linspace(lateral_izq,lateral_der,100)\n",
    "y=(a)*(x**2)+(b*x)+(c)\n",
    "plt.style.use(\"ggplot\")\n",
    "plt.plot(x,y)\n",
    "plt.xlabel('x')\n",
    "plt.ylabel('y')\n",
    "plt.title('Quadratic function graph')\n",
    "plt.grid(True)\n",
    "plt.show()  "
   ]
  },
  {
   "cell_type": "markdown",
   "id": "4567d2ef",
   "metadata": {},
   "source": [
    "### 5. Summary of results"
   ]
  },
  {
   "cell_type": "markdown",
   "id": "d68f1276",
   "metadata": {},
   "source": [
    "#### 5.1 Algorithm used to generate the calculation summary of the quadratic function"
   ]
  },
  {
   "cell_type": "markdown",
   "id": "878752d1",
   "metadata": {},
   "source": [
    "The corresponding algorithm for generating the summary of the calculations is structured as follows:\n",
    "\n",
    "<center>\n",
    "<img src=https://repositorioweb.hetedu.net/Imagenes_Site/fpp/Img_Funcion_Cuadratica_4_en.jpg>\n",
    "</center>"
   ]
  },
  {
   "cell_type": "markdown",
   "id": "c62f1a8b",
   "metadata": {},
   "source": [
    "#### 5.2 Subprogram to generate the calculation summary of the quadratic function"
   ]
  },
  {
   "cell_type": "markdown",
   "id": "eea403c3",
   "metadata": {},
   "source": [
    "Run the subprogram to generate the summary of the quadratic function."
   ]
  },
  {
   "cell_type": "markdown",
   "id": "d4ed0d2b",
   "metadata": {},
   "source": [
    "#### Determinant or solver of the quadratic equation:"
   ]
  },
  {
   "cell_type": "code",
   "execution_count": null,
   "id": "b76e00f0",
   "metadata": {},
   "outputs": [],
   "source": [
    "print(\"The resolvent has the value of:\",Det)"
   ]
  },
  {
   "cell_type": "markdown",
   "id": "e7d002a7",
   "metadata": {},
   "source": [
    "#### Roots of the quadratic equation:"
   ]
  },
  {
   "cell_type": "code",
   "execution_count": null,
   "id": "7ad7dee9",
   "metadata": {},
   "outputs": [],
   "source": [
    "if Det>=0:\n",
    "    print(\"The resolvent has the value of:\",Det)\n",
    "    print(f\"𝑥1={𝑥1}\")\n",
    "    print(f\"𝑥2={𝑥2})\")\n",
    "    print(f\"{𝑎}(𝑥1−({𝑥1}))(𝑥2−({𝑥2}))\")\n",
    "else:\n",
    "    print(\"The resolvent has the value of:\",Det)\n",
    "    print(\"There are two imaginary and different roots, which indicate that the quadratic function has no cuts with the X coordinate axis\")"
   ]
  },
  {
   "cell_type": "markdown",
   "id": "1db1294e",
   "metadata": {},
   "source": [
    "#### Vertex of the quadratic function:"
   ]
  },
  {
   "cell_type": "code",
   "execution_count": null,
   "id": "a425a35f",
   "metadata": {},
   "outputs": [],
   "source": [
    "print(f\"The vertex of the quadratic function is given by the point: ({vertice_x},{vertice_y})\")"
   ]
  },
  {
   "cell_type": "markdown",
   "id": "447efa57",
   "metadata": {},
   "source": [
    "#### Corte con el eje Y:"
   ]
  },
  {
   "cell_type": "code",
   "execution_count": null,
   "id": "15529bd7",
   "metadata": {},
   "outputs": [],
   "source": [
    "print(\"The cut with the Y axis:\",c)"
   ]
  },
  {
   "cell_type": "markdown",
   "id": "6cc7b39a",
   "metadata": {},
   "source": [
    "This site is designed to be used by both teachers and students to complement the workshop by applying mathematical knowledge of the concept of the quadratic function with programming in Python."
   ]
  },
  {
   "cell_type": "markdown",
   "id": "0a0d5f79",
   "metadata": {},
   "source": [
    "Copyright © Hetedu Designed by Herramientas Tecnológicas Educativas. All rights reserved.\n",
    "<center>\n",
    "<img src=\"https://repositorioweb.hetedu.net/Imagenes_Site/comunes/Nuevo_Logo_Hetedu.png\" width=\"200\">\n",
    "</center>"
   ]
  }
 ],
 "metadata": {
  "kernelspec": {
   "display_name": "Python 3 (ipykernel)",
   "language": "python",
   "name": "python3"
  },
  "language_info": {
   "codemirror_mode": {
    "name": "ipython",
    "version": 3
   },
   "file_extension": ".py",
   "mimetype": "text/x-python",
   "name": "python",
   "nbconvert_exporter": "python",
   "pygments_lexer": "ipython3",
   "version": "3.9.7"
  }
 },
 "nbformat": 4,
 "nbformat_minor": 5
}
