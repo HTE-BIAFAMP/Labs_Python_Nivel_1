{
 "cells": [
  {
   "cell_type": "markdown",
   "id": "abaccb3a",
   "metadata": {},
   "source": [
    "# Funciones: Función Cuadrática\n",
    "## Función Cuadrática de la Forma $ax^2+bx+c$"
   ]
  },
  {
   "cell_type": "markdown",
   "id": "297ea801",
   "metadata": {},
   "source": [
    "## Instrucciones\n",
    "\n",
    "Siga las instrucciones que se describen a continuación para realizar la corrida del programa desde COLAB.\n",
    "\n",
    "1. Realice la corrida del programa acorde a los pasos generales y específicos de cada sección del programa."
   ]
  },
  {
   "cell_type": "markdown",
   "id": "ac7d2aaf",
   "metadata": {},
   "source": [
    "### Navegar y correr las celdas programadas\n",
    "1. El programa debe ser ejecutado de forma secuencial de acuerdo a cada sección.\n",
    "2. Cada sección programada está contenida dentro de una celda, que permite ejecutar el sub programa de esa celda utilizando el botón de \"Run\", que aparece cuando nos posicionamos con el cursor en el lado izquierdo de la celda.\n",
    "\n",
    "<center>\n",
    "<img src=https://repositorioweb.hetedu.net/Imagenes_Site/fpp/Img_1.jpg>\n",
    "</center>\n",
    "\n",
    "1. Al hacer \"click\" en el botón de \"Run\", se ejecutará la sección del programa contenido en esa celda.\n",
    "2.\tSe indicará el tiempo de procesamiento del sub programa.\n",
    "3.\tSe mostrará los resultados de la ejecución en caso que el sub programa genere las salidas."
   ]
  },
  {
   "cell_type": "markdown",
   "id": "6bcd1385",
   "metadata": {},
   "source": [
    "### Secciones que contienen celdas programadas\n",
    "\n",
    "El programa está dividido en sub programas que contienen celdas con el código fuente de la celda escrita en Python.\n",
    "\n",
    "Las secciones del programa estan divididas con la siguiente estructura:\n",
    "1. Incluir las librerías.\n",
    "2. Calcular la resolvente.\n",
    "3. Calcular las raíces de la función cuadrática.\n",
    "4. Graficar la función cuadrática.\n",
    "5. Resumen de los resultados."
   ]
  },
  {
   "cell_type": "markdown",
   "id": "a3078a69",
   "metadata": {},
   "source": [
    "## Programa"
   ]
  },
  {
   "cell_type": "markdown",
   "id": "0f29476e",
   "metadata": {},
   "source": [
    "### 1. Incluir las librerías"
   ]
  },
  {
   "cell_type": "markdown",
   "id": "5dc66780",
   "metadata": {},
   "source": [
    "Ejecute el sub programa para incluir las librerías que contienen las funciones que se utilizarán en el programa, una vez incluida las librerías no es necesario correr el programa desde esta sección."
   ]
  },
  {
   "cell_type": "code",
   "execution_count": null,
   "id": "eb8f676c",
   "metadata": {},
   "outputs": [],
   "source": [
    "import numpy as np\n",
    "import math\n",
    "import matplotlib.pyplot as plt"
   ]
  },
  {
   "cell_type": "markdown",
   "id": "388ac083",
   "metadata": {},
   "source": [
    "### Ejercicios a resolver empleando el programa"
   ]
  },
  {
   "cell_type": "markdown",
   "id": "a41c01ef",
   "metadata": {},
   "source": [
    "Haciendo uso del programa realice el cálculo de las raíces y la gráfica de la función cuadrática de los siguientes ejercicios:"
   ]
  },
  {
   "cell_type": "markdown",
   "id": "acba59e5",
   "metadata": {},
   "source": [
    "1. $x^2-6x+5$\n",
    "2. $x^2+2x$\n",
    "3. $5x^2-4x+4$\n",
    "4. $x^2-4x+4$\n",
    "5. $x^2-2$\n",
    "6. $-4x^2-6x+5$\n",
    "7. $-x^2+3x+2$\n",
    "8. $3x^2+1$\n",
    "9. $2x^2-4x-6$\n",
    "10. $2x^2-7x+5$"
   ]
  },
  {
   "cell_type": "markdown",
   "id": "f3564020",
   "metadata": {},
   "source": [
    "### 2. Calcular la resolvente"
   ]
  },
  {
   "cell_type": "markdown",
   "id": "16c6faad",
   "metadata": {},
   "source": [
    "#### 2.1 Método de cálculo de la resolvente"
   ]
  },
  {
   "cell_type": "markdown",
   "id": "761f66c7",
   "metadata": {},
   "source": [
    "La resolución de la resolvente cuadrática plantea la evaluación de tres casos basados en el determinante, el cuál esta definido por la siguiente expresión contenida en la resolvente:\n",
    "\n",
    "$Det = b^2 - 4ac$"
   ]
  },
  {
   "cell_type": "markdown",
   "id": "5c39451e",
   "metadata": {},
   "source": [
    "#### 2.2 Algorítmo empleado para calcular la resolvente"
   ]
  },
  {
   "cell_type": "markdown",
   "id": "9b5dc283",
   "metadata": {},
   "source": [
    "El algoritmo correspondiente al método de cálculo de la resolvente cuadrática se estructura de la siguiente forma:\n",
    "\n",
    "<center>\n",
    "<img src=https://repositorioweb.hetedu.net/Imagenes_Site/fpp/Img_2.jpg>\n",
    "</center>\n",
    "\n",
    "Realice la corrida de cada sub programa para ingresar las constantes de la función cuadrática."
   ]
  },
  {
   "cell_type": "markdown",
   "id": "2f470450",
   "metadata": {},
   "source": [
    "Realice la corrida del sub programa para ingresar la constante “a” de la función cuadrática."
   ]
  },
  {
   "cell_type": "markdown",
   "id": "a6b37706",
   "metadata": {},
   "source": [
    "#### 2.3 Sub programa de cálulo de la resolvente"
   ]
  },
  {
   "cell_type": "code",
   "execution_count": null,
   "id": "8bcce8f2",
   "metadata": {},
   "outputs": [],
   "source": [
    "a=float(input(\"Entrada de la variable a:\"))"
   ]
  },
  {
   "cell_type": "markdown",
   "id": "c1658461",
   "metadata": {},
   "source": [
    "Realice la corrida del sub programa para ingresar la constante “b” de la función cuadrática."
   ]
  },
  {
   "cell_type": "code",
   "execution_count": null,
   "id": "3e3a35f2",
   "metadata": {},
   "outputs": [],
   "source": [
    "b=float(input(\"Entrada de la variable b:\"))"
   ]
  },
  {
   "cell_type": "markdown",
   "id": "9b7dc6ee",
   "metadata": {},
   "source": [
    "Realice la corrida del sub programa para ingresar la constante “c” de la función cuadrática."
   ]
  },
  {
   "cell_type": "code",
   "execution_count": null,
   "id": "33a08f10",
   "metadata": {},
   "outputs": [],
   "source": [
    "c=float(input(\"Entrada de la variable c:\"))"
   ]
  },
  {
   "cell_type": "markdown",
   "id": "fe22681b",
   "metadata": {},
   "source": [
    "Realice la corrida del sub programa para calcular la resolvente de la función cuadrática."
   ]
  },
  {
   "cell_type": "code",
   "execution_count": null,
   "id": "1706d3ad",
   "metadata": {},
   "outputs": [],
   "source": [
    "Det=float((b**2)-(4*a*c))\n",
    "print(\"La resolvente tiene el valor de:\",Det)"
   ]
  },
  {
   "cell_type": "markdown",
   "id": "583ac7a9",
   "metadata": {},
   "source": [
    "### 3. Calcular las raíces de la función cuadrática"
   ]
  },
  {
   "cell_type": "markdown",
   "id": "e28a1f6f",
   "metadata": {},
   "source": [
    "#### 3.1 Método de cálculo de las raíces de la función cuadrática"
   ]
  },
  {
   "cell_type": "markdown",
   "id": "6c516725",
   "metadata": {},
   "source": [
    "Para obtener las raíces de la función parábolica se aplica el método de la resolvente, que consiste en sustituir los coeficientes a, b y c de la función cuadrática en la siguiente ecuación:\n",
    "\n",
    "$x_1,_2 = \\frac{-b \\pm \\sqrt {b^2 - 4ac}}{2a}$\n",
    "\n",
    "Así, obtendremos las raíces de la función identificadas por las variables $x_1$ y $x_2$, reformulando la ecuación cuadrática bajo la siguiente expresión:\n",
    "\n",
    "$a(x - x_1)(x-x_2) = 0$"
   ]
  },
  {
   "cell_type": "markdown",
   "id": "2d5f7811",
   "metadata": {},
   "source": [
    "#### 3.2 Algorítmo empleado para calcular las raíces de la función parábolica"
   ]
  },
  {
   "cell_type": "markdown",
   "id": "fbe86761",
   "metadata": {},
   "source": [
    "El algoritmo correspondiente al método de cálculo de las raíces de la función cuadrática se estructura de la siguiente forma:\n",
    "\n",
    "<center>\n",
    "<img src=https://repositorioweb.hetedu.net/Imagenes_Site/fpp/Img_3.jpg>\n",
    "</center>"
   ]
  },
  {
   "cell_type": "markdown",
   "id": "03f18bee",
   "metadata": {},
   "source": [
    "#### 3.3 Sub programa de cálulo de las raíces de la función cuadrática"
   ]
  },
  {
   "cell_type": "markdown",
   "id": "d2c5bc49",
   "metadata": {},
   "source": [
    "Realice la corrida del sub programa para calcular las raíces de la función cuadrática."
   ]
  },
  {
   "cell_type": "code",
   "execution_count": null,
   "id": "8814e063",
   "metadata": {},
   "outputs": [],
   "source": [
    "if Det>=0:\n",
    "    if Det==0:\n",
    "        x1=float((-b)/(2*a))\n",
    "        x2=x1\n",
    "        print(\"Existen dos raíces reales e iguales\")\n",
    "        print(f\"𝑥1={𝑥1}\")\n",
    "        print(f\"𝑥2={𝑥2})\")\n",
    "        print(f\"{𝑎}(𝑥−{𝑥1})(𝑥−{𝑥2})\")\n",
    "    elif Det>0:\n",
    "        x1=float((-b+math.sqrt(Det))/(2*a))\n",
    "        x2=float((-b-math.sqrt(Det))/(2*a))\n",
    "        print(\"Existen dos raíces reales y diferentes\")\n",
    "        print(f\"𝑥1={𝑥1}\")\n",
    "        print(f\"𝑥2={𝑥2})\")\n",
    "        print(f\"{𝑎}(𝑥1−({𝑥1}))(𝑥2−({𝑥2}))\")\n",
    "else:\n",
    "    print(\"Existen dos raíces imaginarias y diferentes, el cuál indican que la función cuadrática no tiene cortes con el eje coordenado X\")    "
   ]
  },
  {
   "cell_type": "markdown",
   "id": "1aa0d002",
   "metadata": {},
   "source": [
    "### 4. Graficar la función cuadrática"
   ]
  },
  {
   "cell_type": "markdown",
   "id": "b9855395",
   "metadata": {},
   "source": [
    "#### 4.1 Algorítmo empleado para graficar la función cuadrática"
   ]
  },
  {
   "cell_type": "markdown",
   "id": "e28380a7",
   "metadata": {},
   "source": [
    "El algoritmo correspondiente al método para graficar la función cuadrática se estructura de la siguiente forma:\n",
    "\n",
    "<center>\n",
    "<img src=https://repositorioweb.hetedu.net/Imagenes_Site/fpp/Img_4.jpg>\n",
    "</center>"
   ]
  },
  {
   "cell_type": "markdown",
   "id": "400d7111",
   "metadata": {},
   "source": [
    "#### 4.2 Sub programa para graficar la función cuadrática"
   ]
  },
  {
   "cell_type": "markdown",
   "id": "b4082b86",
   "metadata": {},
   "source": [
    "Realice la corrida del sub programa para graficar la función cuadrática."
   ]
  },
  {
   "cell_type": "code",
   "execution_count": null,
   "id": "828da7f3",
   "metadata": {},
   "outputs": [],
   "source": [
    "### Evaluar el vértice\n",
    "vertice_x=float((-b)/(2*a))\n",
    "vertice_y=float((c)-((b**2)/(4*a)))\n",
    "vertice_izq=vertice_x-10\n",
    "vertice_der=vertice_x+10\n",
    "val_vertice_izq=float((a)*(vertice_izq**2)+(b*vertice_izq)+(c))\n",
    "val_vertice_der=float((a)*(vertice_der**2)+(b*vertice_der)+(c))\n",
    "corte_y=c\n",
    "dominio_grafica=200\n",
    "\n",
    "if (a>0):\n",
    "    lateral_izq=corte_y-(dominio_grafica/2)\n",
    "    lateral_der=vertice_x+(dominio_grafica/2)\n",
    "    valor_inferior=vertice_y-20\n",
    "    valor_superior=vertice_y+20\n",
    "elif (a<0):\n",
    "    lateral_izq=corte_y-(dominio_grafica/2)\n",
    "    lateral_der=vertice_x+(dominio_grafica/2)\n",
    "    valor_inferior=vertice_y+20\n",
    "    valor_superior=vertice_y-20\n",
    "    \n",
    "x=np.linspace(lateral_izq,lateral_der,100)\n",
    "y=(a)*(x**2)+(b*x)+(c)\n",
    "plt.style.use(\"ggplot\")\n",
    "plt.plot(x,y)\n",
    "plt.xlabel('x')\n",
    "plt.ylabel('y')\n",
    "plt.title('Gráfica de la función cuadrática')\n",
    "plt.grid(True)\n",
    "plt.show()  "
   ]
  },
  {
   "cell_type": "markdown",
   "id": "4567d2ef",
   "metadata": {},
   "source": [
    "### 5. Resumen de los resultados"
   ]
  },
  {
   "cell_type": "markdown",
   "id": "d68f1276",
   "metadata": {},
   "source": [
    "#### 5.1 Algorítmo empleado para generar el resumen de cálculo de la función cuadrática"
   ]
  },
  {
   "cell_type": "markdown",
   "id": "878752d1",
   "metadata": {},
   "source": [
    "El algoritmo correspondiente para generar el resumen de los cálculos se estructura de la siguiente forma:\n",
    "\n",
    "<center>\n",
    "<img src=https://repositorioweb.hetedu.net/Imagenes_Site/fpp/Img_5.jpg>\n",
    "</center>"
   ]
  },
  {
   "cell_type": "markdown",
   "id": "c62f1a8b",
   "metadata": {},
   "source": [
    "#### 5.2 Sub programa para generar el resumen de cálculo de la función cuadrática"
   ]
  },
  {
   "cell_type": "markdown",
   "id": "eea403c3",
   "metadata": {},
   "source": [
    "Realice la corrida del sub programa para generar el resumen de la función cuadrática."
   ]
  },
  {
   "cell_type": "markdown",
   "id": "d4ed0d2b",
   "metadata": {},
   "source": [
    "#### Determinante o resolvente de la ecuación cuadrática:"
   ]
  },
  {
   "cell_type": "code",
   "execution_count": null,
   "id": "b76e00f0",
   "metadata": {},
   "outputs": [],
   "source": [
    "print(\"La resolvente tiene el valor de:\",Det)"
   ]
  },
  {
   "cell_type": "markdown",
   "id": "e7d002a7",
   "metadata": {},
   "source": [
    "#### Raíces de la ecuación cuadrática:"
   ]
  },
  {
   "cell_type": "code",
   "execution_count": null,
   "id": "7ad7dee9",
   "metadata": {},
   "outputs": [],
   "source": [
    "if Det>=0:\n",
    "    print(\"La resolvente tiene el valor de:\",Det)\n",
    "    print(f\"𝑥1={𝑥1}\")\n",
    "    print(f\"𝑥2={𝑥2})\")\n",
    "    print(f\"{𝑎}(𝑥1−({𝑥1}))(𝑥2−({𝑥2}))\")\n",
    "else:\n",
    "    print(\"La resolvente tiene el valor de:\",Det)\n",
    "    print(\"Existen dos raíces imaginarias y diferentes, el cuál indican que la función cuadrática no tiene cortes con el eje coordenado X\")"
   ]
  },
  {
   "cell_type": "markdown",
   "id": "1db1294e",
   "metadata": {},
   "source": [
    "#### Vértice de la función cuadrática:"
   ]
  },
  {
   "cell_type": "code",
   "execution_count": null,
   "id": "a425a35f",
   "metadata": {},
   "outputs": [],
   "source": [
    "print(f\"El vértice de la función cuadrática viene dada por el punto: ({vertice_x},{vertice_y})\")"
   ]
  },
  {
   "cell_type": "markdown",
   "id": "447efa57",
   "metadata": {},
   "source": [
    "#### Corte con el eje Y:"
   ]
  },
  {
   "cell_type": "code",
   "execution_count": null,
   "id": "15529bd7",
   "metadata": {},
   "outputs": [],
   "source": [
    "print(\"El corte con el eje Y:\",c)"
   ]
  },
  {
   "cell_type": "markdown",
   "id": "6cc7b39a",
   "metadata": {},
   "source": [
    "Este sitio está diseñado para ser usado, tanto por profesores como por estudiantes, para complementar el taller aplicando los conocimientos matemáticos del concepto de la función cuadrática con la programación en Python."
   ]
  },
  {
   "cell_type": "markdown",
   "id": "0a0d5f79",
   "metadata": {},
   "source": [
    "Copyright © Hetedu Designed by Herramientas Tecnológicas Educativas. All rights reserved.\n",
    "<center>\n",
    "<img src=\"https://repositorioweb.hetedu.net/Imagenes_Site/comunes/Nuevo_Logo_Hetedu.png\" width=\"200\">\n",
    "</center>"
   ]
  }
 ],
 "metadata": {
  "kernelspec": {
   "display_name": "Python 3 (ipykernel)",
   "language": "python",
   "name": "python3"
  },
  "language_info": {
   "codemirror_mode": {
    "name": "ipython",
    "version": 3
   },
   "file_extension": ".py",
   "mimetype": "text/x-python",
   "name": "python",
   "nbconvert_exporter": "python",
   "pygments_lexer": "ipython3",
   "version": "3.9.7"
  }
 },
 "nbformat": 4,
 "nbformat_minor": 5
}
