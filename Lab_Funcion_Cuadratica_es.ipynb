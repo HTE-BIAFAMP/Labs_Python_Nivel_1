{
 "cells": [
  {
   "cell_type": "markdown",
   "id": "abaccb3a",
   "metadata": {},
   "source": [
    "# Funciones: Función Cuadrática\n",
    "## Función Cuadrática de la Forma $ax^2+bx+c$\n",
    "\n",
    "Este sitio está diseñado para ser usado, tanto por profesores como por estudiantes, para complementar el taller aplicando los conocimientos matemáticos del concepto de la función cuadrática con la programación en Python."
   ]
  },
  {
   "cell_type": "markdown",
   "id": "0f29476e",
   "metadata": {},
   "source": [
    "### Incluir la librerías"
   ]
  },
  {
   "cell_type": "code",
   "execution_count": null,
   "id": "eb8f676c",
   "metadata": {},
   "outputs": [],
   "source": [
    "import numpy as np\n",
    "import math\n",
    "import matplotlib.pyplot as plt"
   ]
  },
  {
   "cell_type": "markdown",
   "id": "f3564020",
   "metadata": {},
   "source": [
    "### Obtener las raíces de la función parábolica"
   ]
  },
  {
   "cell_type": "markdown",
   "id": "c0a3f03e",
   "metadata": {},
   "source": [
    "#### Para obtener las raíces de la función parábolica se aplica el método de la resolvente, que consiste en sustituir los coeficientes a, b y c de la función cuadrática en la siguiente ecuación:"
   ]
  },
  {
   "cell_type": "markdown",
   "id": "a5d5b92e",
   "metadata": {},
   "source": [
    "$x_1,_2 = \\frac{-b \\pm \\sqrt {b^2 - 4ac}}{2a}$"
   ]
  },
  {
   "cell_type": "markdown",
   "id": "7d226f17",
   "metadata": {},
   "source": [
    "#### Así, obtendremos las raíces de la función identificadas por las variables $x_1$ y $x_2$, reformulando la ecuación cuadrática bajo la siguiente expresión:"
   ]
  },
  {
   "cell_type": "markdown",
   "id": "0ef9fb9f",
   "metadata": {},
   "source": [
    "$a(x - x_1)(x-x_2) = 0$"
   ]
  },
  {
   "cell_type": "markdown",
   "id": "2a3448e2",
   "metadata": {},
   "source": [
    "#### La resolución de la resolvente cuadrática plantea la evaluación de tres casos basados en el determinante, el cuál esta definido por la siguiente expresión contenida en la resolvente:"
   ]
  },
  {
   "cell_type": "markdown",
   "id": "1fc523c6",
   "metadata": {},
   "source": [
    "$Det = b^2 - 4ac$"
   ]
  },
  {
   "cell_type": "code",
   "execution_count": null,
   "id": "8bcce8f2",
   "metadata": {},
   "outputs": [],
   "source": [
    "a=float(input(\"Entrada de la variable a:\"))"
   ]
  },
  {
   "cell_type": "code",
   "execution_count": null,
   "id": "3e3a35f2",
   "metadata": {},
   "outputs": [],
   "source": [
    "b=float(input(\"Entrada de la variable b:\"))"
   ]
  },
  {
   "cell_type": "code",
   "execution_count": null,
   "id": "33a08f10",
   "metadata": {},
   "outputs": [],
   "source": [
    "c=float(input(\"Entrada de la variable c:\"))"
   ]
  },
  {
   "cell_type": "markdown",
   "id": "fe22681b",
   "metadata": {},
   "source": [
    "#### Cálculo de la resolvente:"
   ]
  },
  {
   "cell_type": "code",
   "execution_count": null,
   "id": "1706d3ad",
   "metadata": {},
   "outputs": [],
   "source": [
    "Det=float((b**2)-(4*a*c))\n",
    "print(\"La resolvente tiene el valor de:\",Det)"
   ]
  },
  {
   "cell_type": "markdown",
   "id": "220bfad9",
   "metadata": {},
   "source": [
    "#### Evaluaremos el resultado de la resolvente y se calcularán las raíces:"
   ]
  },
  {
   "cell_type": "code",
   "execution_count": null,
   "id": "8814e063",
   "metadata": {},
   "outputs": [],
   "source": [
    "if Det>=0:\n",
    "    if Det==0:\n",
    "        x1=float((-b)/(2*a))\n",
    "        x2=x1\n",
    "        print(\"Existen dos raíces reales e iguales\")\n",
    "        print(f\"𝑥1={𝑥1}\")\n",
    "        print(f\"𝑥2={𝑥2})\")\n",
    "        print(f\"{𝑎}(𝑥−{𝑥1})(𝑥−{𝑥2})\")\n",
    "    elif Det>0:\n",
    "        x1=float((-b+math.sqrt(Det))/(2*a))\n",
    "        x2=float((-b-math.sqrt(Det))/(2*a))\n",
    "        print(\"Existen dos raíces reales y diferentes\")\n",
    "        print(f\"𝑥1={𝑥1}\")\n",
    "        print(f\"𝑥2={𝑥2})\")\n",
    "        print(f\"{𝑎}(𝑥1−({𝑥1}))(𝑥2−({𝑥2}))\")\n",
    "else:\n",
    "    print(\"Existen dos raíces imaginarias y diferentes, el cuál indican que la función cuadrática no tiene cortes con el eje coordenado X\")    "
   ]
  },
  {
   "cell_type": "code",
   "execution_count": null,
   "id": "828da7f3",
   "metadata": {},
   "outputs": [],
   "source": [
    "### Evaluar el vértice\n",
    "vertice_x=float((-b)/(2*a))\n",
    "vertice_y=float((c)-((b**2)/(4*a)))\n",
    "vertice_izq=vertice_x-10\n",
    "vertice_der=vertice_x+10\n",
    "val_vertice_izq=float((a)*(vertice_izq**2)+(b*vertice_izq)+(c))\n",
    "val_vertice_der=float((a)*(vertice_der**2)+(b*vertice_der)+(c))\n",
    "corte_y=c\n",
    "dominio_grafica=200\n",
    "\n",
    "if (a>0):\n",
    "    lateral_izq=corte_y-(dominio_grafica/2)\n",
    "    lateral_der=vertice_x+(dominio_grafica/2)\n",
    "    valor_inferior=vertice_y-20\n",
    "    valor_superior=vertice_y+20\n",
    "elif (a<0):\n",
    "    lateral_izq=corte_y-(dominio_grafica/2)\n",
    "    lateral_der=vertice_x+(dominio_grafica/2)\n",
    "    valor_inferior=vertice_y+20\n",
    "    valor_superior=vertice_y-20\n",
    "    \n",
    "x=np.linspace(lateral_izq,lateral_der,100)\n",
    "y=(a)*(x**2)+(b*x)+(c)\n",
    "plt.style.use(\"ggplot\")\n",
    "plt.plot(x,y)\n",
    "plt.xlabel('x')\n",
    "plt.ylabel('y')\n",
    "plt.title('Gráfica de la función cuadrática')\n",
    "plt.grid(True)\n",
    "plt.show()  "
   ]
  },
  {
   "cell_type": "markdown",
   "id": "4567d2ef",
   "metadata": {},
   "source": [
    "### Resumen de los resultados"
   ]
  },
  {
   "cell_type": "markdown",
   "id": "d4ed0d2b",
   "metadata": {},
   "source": [
    "#### Determinante o resolvente de la ecuación cuadrática:"
   ]
  },
  {
   "cell_type": "code",
   "execution_count": null,
   "id": "b76e00f0",
   "metadata": {},
   "outputs": [],
   "source": [
    "print(\"La resolvente tiene el valor de:\",Det)"
   ]
  },
  {
   "cell_type": "markdown",
   "id": "e7d002a7",
   "metadata": {},
   "source": [
    "#### Raíces de la ecuación cuadrática:"
   ]
  },
  {
   "cell_type": "code",
   "execution_count": null,
   "id": "7ad7dee9",
   "metadata": {},
   "outputs": [],
   "source": [
    "if Det>=0:\n",
    "    print(\"La resolvente tiene el valor de:\",Det)\n",
    "    print(f\"𝑥1={𝑥1}\")\n",
    "    print(f\"𝑥2={𝑥2})\")\n",
    "    print(f\"{𝑎}(𝑥1−({𝑥1}))(𝑥2−({𝑥2}))\")\n",
    "else:\n",
    "    print(\"La resolvente tiene el valor de:\",Det)\n",
    "    print(\"Existen dos raíces imaginarias y diferentes, el cuál indican que la función cuadrática no tiene cortes con el eje coordenado X\")"
   ]
  },
  {
   "cell_type": "markdown",
   "id": "1db1294e",
   "metadata": {},
   "source": [
    "#### Vértice de la función cuadrática:"
   ]
  },
  {
   "cell_type": "code",
   "execution_count": null,
   "id": "a425a35f",
   "metadata": {},
   "outputs": [],
   "source": [
    "print(f\"El vértice de la función cuadrática viene dada por el punto: ({vertice_x},{vertice_y})\")"
   ]
  },
  {
   "cell_type": "markdown",
   "id": "447efa57",
   "metadata": {},
   "source": [
    "#### Corte con el eje Y:"
   ]
  },
  {
   "cell_type": "code",
   "execution_count": null,
   "id": "15529bd7",
   "metadata": {},
   "outputs": [],
   "source": [
    "print(\"El corte con el eje Y:\",c)"
   ]
  },
  {
   "cell_type": "code",
   "execution_count": null,
   "id": "b66145cf",
   "metadata": {},
   "outputs": [],
   "source": []
  }
 ],
 "metadata": {
  "kernelspec": {
   "display_name": "Python 3 (ipykernel)",
   "language": "python",
   "name": "python3"
  },
  "language_info": {
   "codemirror_mode": {
    "name": "ipython",
    "version": 3
   },
   "file_extension": ".py",
   "mimetype": "text/x-python",
   "name": "python",
   "nbconvert_exporter": "python",
   "pygments_lexer": "ipython3",
   "version": "3.9.7"
  }
 },
 "nbformat": 4,
 "nbformat_minor": 5
}
